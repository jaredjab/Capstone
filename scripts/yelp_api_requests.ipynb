{
 "cells": [
  {
   "cell_type": "code",
   "execution_count": 1,
   "id": "24392f3d",
   "metadata": {},
   "outputs": [],
   "source": [
    "import requests\n",
    "import json\n",
    "import pandas as pd\n",
    "import time"
   ]
  },
  {
   "cell_type": "code",
   "execution_count": 2,
   "id": "7e533b61",
   "metadata": {},
   "outputs": [],
   "source": [
    "with open('../../keys.json', 'r') as file:\n",
    "    api_key = json.load(file)['yelp_api_key']"
   ]
  },
  {
   "cell_type": "code",
   "execution_count": 3,
   "id": "2a45e936",
   "metadata": {},
   "outputs": [],
   "source": [
    "url = 'https://api.yelp.com/v3/businesses/search'\n",
    "headers = {'Authorization': f'Bearer {api_key}'}"
   ]
  },
  {
   "cell_type": "code",
   "execution_count": 4,
   "id": "04d8fd3e",
   "metadata": {},
   "outputs": [],
   "source": [
    "np_data = pd.read_csv('../data/no_yelp_or_images.csv')"
   ]
  },
  {
   "cell_type": "code",
   "execution_count": 5,
   "id": "2ad4fe2d",
   "metadata": {},
   "outputs": [],
   "source": [
    "parks = np_data.park_name.to_list()"
   ]
  },
  {
   "cell_type": "code",
   "execution_count": 6,
   "id": "42f6d009",
   "metadata": {},
   "outputs": [
    {
     "data": {
      "text/plain": [
       "['Acadia', 'Arches', 'Badlands', 'Big Bend', 'Biscayne']"
      ]
     },
     "execution_count": 6,
     "metadata": {},
     "output_type": "execute_result"
    }
   ],
   "source": [
    "parks[:5]"
   ]
  },
  {
   "cell_type": "code",
   "execution_count": 7,
   "id": "67c59d16",
   "metadata": {},
   "outputs": [
    {
     "name": "stdout",
     "output_type": "stream",
     "text": [
      "\n",
      "Searching for term: Acadia National Park\n",
      "\n",
      "Name: Muir Beach\n",
      "Id: RfhK07XqbafJDgFMsYLaAA\n",
      "\n",
      "Name: Viator\n",
      "Id: prylj1Xvcrv_s9G__V9p8A\n",
      "\n",
      "\n",
      "Searching for term: Arches National Park\n",
      "\n",
      "Name: Live2RV\n",
      "Id: O1_vUmDvGzSPFEGJaavSeA\n",
      "\n",
      "Name: Tennessee Valley\n",
      "Id: k9yMe6NnUM6jIF_KgM7-eQ\n",
      "\n",
      "Name: Golden Gate Park\n",
      "Id: KIVq5BlJKTipwtB3NATX0g\n",
      "\n",
      "Name: Mori Point\n",
      "Id: pUlMUwqRGDJxC4vhr5mxMw\n",
      "\n",
      "Name: Muir Woods National Monument\n",
      "Id: J3C1Eenep01AKjTBsEx3qg\n",
      "\n",
      "\n",
      "Searching for term: Badlands National Park\n",
      "\n",
      "Name: Mission Dolores Park\n",
      "Id: Tf_27JvnneEx0Tz79UwShg\n",
      "\n",
      "\n",
      "Searching for term: Big Bend National Park\n",
      "\n",
      "Name: The Presidio\n",
      "Id: TuZXDDYPaXQGN4hLhMCszQ\n",
      "\n",
      "Name: Baker Beach\n",
      "Id: fTlqRlDPtOMayvZM46LVlA\n",
      "\n",
      "Name: Crissy Field\n",
      "Id: MKqtBlDciknkwW0q_Xa-Ow\n",
      "\n",
      "Name: Lands End Trail\n",
      "Id: yniMfk_yS1sk9dxPLDVchg\n",
      "\n",
      "Name: Golden Gate Park\n",
      "Id: KIVq5BlJKTipwtB3NATX0g\n",
      "\n",
      "\n",
      "Searching for term: Biscayne National Park\n",
      "\n"
     ]
    }
   ],
   "source": [
    "parks = parks[:5]\n",
    "for park in parks:\n",
    "    term = park + ' National Park'\n",
    "    \n",
    "    params = {\n",
    "    'term': term,\n",
    "    'location': 'United States',\n",
    "    'limit': 5\n",
    "    }\n",
    "    \n",
    "    print(f'\\nSearching for term: {term}\\n')\n",
    "    response = requests.get(url, headers=headers, params=params)\n",
    "    \n",
    "    if response.status_code == 200:\n",
    "        businesses = response.json()['businesses']\n",
    "        for business in businesses:\n",
    "            print(f\"Name: {business['name']}\")\n",
    "            print(f\"Id: {business['id']}\\n\")\n",
    "            #print(f\"Rating: {business['rating']}\")\n",
    "            #print(f\"Review Count: {business['review_count']}\\n\")\n",
    "    else:\n",
    "        print(f\"\\nError: {response.status_code} - {response.text}\\n\")"
   ]
  },
  {
   "cell_type": "code",
   "execution_count": null,
   "id": "85dab347",
   "metadata": {},
   "outputs": [],
   "source": []
  }
 ],
 "metadata": {
  "kernelspec": {
   "display_name": "Python 3 (ipykernel)",
   "language": "python",
   "name": "python3"
  },
  "language_info": {
   "codemirror_mode": {
    "name": "ipython",
    "version": 3
   },
   "file_extension": ".py",
   "mimetype": "text/x-python",
   "name": "python",
   "nbconvert_exporter": "python",
   "pygments_lexer": "ipython3",
   "version": "3.11.5"
  }
 },
 "nbformat": 4,
 "nbformat_minor": 5
}
