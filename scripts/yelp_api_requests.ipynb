{
 "cells": [
  {
   "cell_type": "code",
   "execution_count": 1,
   "id": "24392f3d",
   "metadata": {},
   "outputs": [],
   "source": [
    "import requests\n",
    "import json"
   ]
  },
  {
   "cell_type": "code",
   "execution_count": 4,
   "id": "7e533b61",
   "metadata": {},
   "outputs": [],
   "source": [
    "with open('../../keys.json', 'r') as file:\n",
    "    api_key = json.load(file)['yelp_api_key']"
   ]
  },
  {
   "cell_type": "code",
   "execution_count": 6,
   "id": "2a45e936",
   "metadata": {},
   "outputs": [],
   "source": [
    "url = 'https://api.yelp.com/v3/businesses/search'\n",
    "headers = {'Authorization': f'Bearer {api_key}'}"
   ]
  },
  {
   "cell_type": "code",
   "execution_count": 11,
   "id": "e6e6b42c",
   "metadata": {},
   "outputs": [],
   "source": [
    "params = {\n",
    "    'term': 'national parks',\n",
    "    'location': 'United States',\n",
    "}"
   ]
  },
  {
   "cell_type": "code",
   "execution_count": 12,
   "id": "01a1d401",
   "metadata": {},
   "outputs": [],
   "source": [
    "response = requests.get(url, headers=headers, params=params)"
   ]
  },
  {
   "cell_type": "code",
   "execution_count": 13,
   "id": "c5c7c3a3",
   "metadata": {},
   "outputs": [
    {
     "name": "stdout",
     "output_type": "stream",
     "text": [
      "Name: Muir Woods National Monument, Rating: 4.6, Review Count: 1778\n",
      "Name: Fort Funston, Rating: 4.8, Review Count: 1154\n",
      "Name: Lafayette Park, Rating: 4.5, Review Count: 182\n",
      "Name: San Francisco Botanical Garden, Rating: 4.5, Review Count: 682\n",
      "Name: Lovers' Lane at the Presidio, Rating: 4.6, Review Count: 80\n",
      "Name: Golden Gate Park, Rating: 4.7, Review Count: 1294\n",
      "Name: State Street Park, Rating: 3.5, Review Count: 2\n",
      "Name: Fort Point, Rating: 4.8, Review Count: 431\n",
      "Name: Mission Dolores Park, Rating: 4.6, Review Count: 1513\n",
      "Name: Muir Woods Tours & Adventures, Rating: 4.4, Review Count: 11\n",
      "Name: Mount Tamalpais State Park, Rating: 4.8, Review Count: 418\n",
      "Name: Lands End Trail, Rating: 4.8, Review Count: 939\n",
      "Name: The Presidio, Rating: 4.6, Review Count: 255\n",
      "Name: San Bruno Mountain State & County Park, Rating: 4.4, Review Count: 167\n",
      "Name: Napa Valley Aloft Hot Air Balloon Rides, Rating: 4.8, Review Count: 337\n",
      "Name: Tilden Regional Park, Rating: 4.7, Review Count: 393\n",
      "Name: Segway SF Bay, Rating: 5.0, Review Count: 135\n",
      "Name: Golden Gate National Recreation Area, Rating: 4.6, Review Count: 45\n",
      "Name: Himalayan High Treks, Rating: 5.0, Review Count: 5\n",
      "Name: San Francisco Maritime National Historical Park, Rating: 4.6, Review Count: 107\n"
     ]
    }
   ],
   "source": [
    "if response.status_code == 200: # Checks for a return\n",
    "    # Process the business data\n",
    "    businesses = response.json()['businesses']\n",
    "    for business in businesses:\n",
    "        # Extract the information such as name, rating, review_count, etc.\n",
    "        print(f\"Name: {business['name']}, Rating: {business['rating']}, Review Count: {business['review_count']}\")\n",
    "else:\n",
    "    print(f\"Error: {response.status_code} - {response.text}\")"
   ]
  },
  {
   "cell_type": "code",
   "execution_count": null,
   "id": "a74231c8",
   "metadata": {},
   "outputs": [],
   "source": []
  }
 ],
 "metadata": {
  "kernelspec": {
   "display_name": "Python 3 (ipykernel)",
   "language": "python",
   "name": "python3"
  },
  "language_info": {
   "codemirror_mode": {
    "name": "ipython",
    "version": 3
   },
   "file_extension": ".py",
   "mimetype": "text/x-python",
   "name": "python",
   "nbconvert_exporter": "python",
   "pygments_lexer": "ipython3",
   "version": "3.11.5"
  }
 },
 "nbformat": 4,
 "nbformat_minor": 5
}
