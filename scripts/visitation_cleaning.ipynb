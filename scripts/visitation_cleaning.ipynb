{
 "cells": [
  {
   "cell_type": "code",
   "execution_count": 1,
   "id": "7c679a88",
   "metadata": {},
   "outputs": [],
   "source": [
    "import pandas as pd"
   ]
  },
  {
   "cell_type": "code",
   "execution_count": 2,
   "id": "c179e347",
   "metadata": {},
   "outputs": [
    {
     "name": "stderr",
     "output_type": "stream",
     "text": [
      "C:\\Users\\Jab\\AppData\\Local\\Temp\\ipykernel_4460\\3986525121.py:1: DtypeWarning: Columns (12,16,29,33) have mixed types. Specify dtype option on import or set low_memory=False.\n",
      "  df = pd.read_csv('../data/national-park-service/np-stats/nps_visits_raw.csv')\n"
     ]
    }
   ],
   "source": [
    "df = pd.read_csv('../data/national-park-service/np-stats/nps_visits_raw.csv')"
   ]
  },
  {
   "cell_type": "code",
   "execution_count": 3,
   "id": "0f1148e9",
   "metadata": {},
   "outputs": [],
   "source": [
    "df.ConcessionerCamping = pd.to_numeric(df.ConcessionerCamping, errors='coerce')\n",
    "df.NonRecreationOvernightStays = pd.to_numeric(df.NonRecreationOvernightStays, errors='coerce')"
   ]
  },
  {
   "cell_type": "code",
   "execution_count": 4,
   "id": "924e06ba",
   "metadata": {},
   "outputs": [
    {
     "data": {
      "text/plain": [
       "Index(['ParkName', 'UnitCode', 'ParkType', 'Region', 'State', 'Year', 'Month',\n",
       "       'RecreationVisits', 'NonRecreationVisits', 'RecreationHours',\n",
       "       'NonRecreationHours', 'ConcessionerLodging', 'ConcessionerCamping',\n",
       "       'TentCampers', 'RVCampers', 'Backcountry',\n",
       "       'NonRecreationOvernightStays', 'MiscellaneousOvernightStays',\n",
       "       'ParkNameTotal', 'UnitCodeTotal', 'ParkTypeTotal', 'RegionTotal',\n",
       "       'StateTotal', 'YearTotal', 'RecreationVisitsTotal',\n",
       "       'NonRecreationVisitsTotal', 'RecreationHoursTotal',\n",
       "       'NonRecreationHoursTotal', 'ConcessionerLodgingTotal',\n",
       "       'ConcessionerCampingTotal', 'TentCampersTotal', 'RVCampersTotal',\n",
       "       'BackcountryTotal', 'NonRecreationOvernightStaysTotal',\n",
       "       'MiscellaneousOvernightStaysTotal'],\n",
       "      dtype='object')"
      ]
     },
     "execution_count": 4,
     "metadata": {},
     "output_type": "execute_result"
    }
   ],
   "source": [
    "df.columns"
   ]
  },
  {
   "cell_type": "code",
   "execution_count": 5,
   "id": "db41261e",
   "metadata": {},
   "outputs": [],
   "source": [
    "gen = pd.read_csv('../data/final/general.csv')"
   ]
  },
  {
   "cell_type": "code",
   "execution_count": 6,
   "id": "c8c28b9c",
   "metadata": {},
   "outputs": [
    {
     "data": {
      "text/html": [
       "<div>\n",
       "<style scoped>\n",
       "    .dataframe tbody tr th:only-of-type {\n",
       "        vertical-align: middle;\n",
       "    }\n",
       "\n",
       "    .dataframe tbody tr th {\n",
       "        vertical-align: top;\n",
       "    }\n",
       "\n",
       "    .dataframe thead th {\n",
       "        text-align: right;\n",
       "    }\n",
       "</style>\n",
       "<table border=\"1\" class=\"dataframe\">\n",
       "  <thead>\n",
       "    <tr style=\"text-align: right;\">\n",
       "      <th></th>\n",
       "      <th>park_name</th>\n",
       "      <th>date_established</th>\n",
       "      <th>description</th>\n",
       "      <th>latitude</th>\n",
       "      <th>longitude</th>\n",
       "      <th>region</th>\n",
       "    </tr>\n",
       "  </thead>\n",
       "  <tbody>\n",
       "    <tr>\n",
       "      <th>0</th>\n",
       "      <td>Acadia</td>\n",
       "      <td>1919-02-26</td>\n",
       "      <td>Covering most of Mount Desert Island and other...</td>\n",
       "      <td>44.35</td>\n",
       "      <td>68.21</td>\n",
       "      <td>Northeast</td>\n",
       "    </tr>\n",
       "    <tr>\n",
       "      <th>1</th>\n",
       "      <td>American Samoa</td>\n",
       "      <td>1988-10-31</td>\n",
       "      <td>The southernmost national park is on three Sam...</td>\n",
       "      <td>14.25</td>\n",
       "      <td>170.68</td>\n",
       "      <td>Northeast</td>\n",
       "    </tr>\n",
       "    <tr>\n",
       "      <th>2</th>\n",
       "      <td>Arches</td>\n",
       "      <td>1971-11-12</td>\n",
       "      <td>This site features more than 2,000 natural san...</td>\n",
       "      <td>38.68</td>\n",
       "      <td>109.57</td>\n",
       "      <td>Northeast</td>\n",
       "    </tr>\n",
       "    <tr>\n",
       "      <th>3</th>\n",
       "      <td>Badlands</td>\n",
       "      <td>1978-11-10</td>\n",
       "      <td>The Badlands are a collection of buttes, pinna...</td>\n",
       "      <td>43.75</td>\n",
       "      <td>102.50</td>\n",
       "      <td>Northeast</td>\n",
       "    </tr>\n",
       "    <tr>\n",
       "      <th>4</th>\n",
       "      <td>Big Bend</td>\n",
       "      <td>1944-06-12</td>\n",
       "      <td>Named for the prominent bend in the Rio Grande...</td>\n",
       "      <td>29.25</td>\n",
       "      <td>103.25</td>\n",
       "      <td>Northeast</td>\n",
       "    </tr>\n",
       "    <tr>\n",
       "      <th>...</th>\n",
       "      <td>...</td>\n",
       "      <td>...</td>\n",
       "      <td>...</td>\n",
       "      <td>...</td>\n",
       "      <td>...</td>\n",
       "      <td>...</td>\n",
       "    </tr>\n",
       "    <tr>\n",
       "      <th>58</th>\n",
       "      <td>Wind Cave</td>\n",
       "      <td>1903-01-09</td>\n",
       "      <td>Wind Cave is distinctive for its calcite fin f...</td>\n",
       "      <td>43.57</td>\n",
       "      <td>103.48</td>\n",
       "      <td>Northeast</td>\n",
       "    </tr>\n",
       "    <tr>\n",
       "      <th>59</th>\n",
       "      <td>Wrangell-St. Elias</td>\n",
       "      <td>1980-12-02</td>\n",
       "      <td>The largest national park in the system protec...</td>\n",
       "      <td>61.00</td>\n",
       "      <td>142.00</td>\n",
       "      <td>Northeast</td>\n",
       "    </tr>\n",
       "    <tr>\n",
       "      <th>60</th>\n",
       "      <td>Yellowstone</td>\n",
       "      <td>1872-03-01</td>\n",
       "      <td>Situated on the Yellowstone Caldera, the park ...</td>\n",
       "      <td>44.60</td>\n",
       "      <td>110.50</td>\n",
       "      <td>Northeast</td>\n",
       "    </tr>\n",
       "    <tr>\n",
       "      <th>61</th>\n",
       "      <td>Yosemite</td>\n",
       "      <td>1890-10-01</td>\n",
       "      <td>Yosemite features sheer granite cliffs, except...</td>\n",
       "      <td>37.83</td>\n",
       "      <td>119.50</td>\n",
       "      <td>Northeast</td>\n",
       "    </tr>\n",
       "    <tr>\n",
       "      <th>62</th>\n",
       "      <td>Zion</td>\n",
       "      <td>1919-11-19</td>\n",
       "      <td>Located at the junction of the Colorado Platea...</td>\n",
       "      <td>37.30</td>\n",
       "      <td>113.05</td>\n",
       "      <td>Northeast</td>\n",
       "    </tr>\n",
       "  </tbody>\n",
       "</table>\n",
       "<p>63 rows × 6 columns</p>\n",
       "</div>"
      ],
      "text/plain": [
       "             park_name date_established  \\\n",
       "0               Acadia       1919-02-26   \n",
       "1       American Samoa       1988-10-31   \n",
       "2               Arches       1971-11-12   \n",
       "3             Badlands       1978-11-10   \n",
       "4             Big Bend       1944-06-12   \n",
       "..                 ...              ...   \n",
       "58           Wind Cave       1903-01-09   \n",
       "59  Wrangell-St. Elias       1980-12-02   \n",
       "60         Yellowstone       1872-03-01   \n",
       "61            Yosemite       1890-10-01   \n",
       "62                Zion       1919-11-19   \n",
       "\n",
       "                                          description  latitude  longitude  \\\n",
       "0   Covering most of Mount Desert Island and other...     44.35      68.21   \n",
       "1   The southernmost national park is on three Sam...     14.25     170.68   \n",
       "2   This site features more than 2,000 natural san...     38.68     109.57   \n",
       "3   The Badlands are a collection of buttes, pinna...     43.75     102.50   \n",
       "4   Named for the prominent bend in the Rio Grande...     29.25     103.25   \n",
       "..                                                ...       ...        ...   \n",
       "58  Wind Cave is distinctive for its calcite fin f...     43.57     103.48   \n",
       "59  The largest national park in the system protec...     61.00     142.00   \n",
       "60  Situated on the Yellowstone Caldera, the park ...     44.60     110.50   \n",
       "61  Yosemite features sheer granite cliffs, except...     37.83     119.50   \n",
       "62  Located at the junction of the Colorado Platea...     37.30     113.05   \n",
       "\n",
       "       region  \n",
       "0   Northeast  \n",
       "1   Northeast  \n",
       "2   Northeast  \n",
       "3   Northeast  \n",
       "4   Northeast  \n",
       "..        ...  \n",
       "58  Northeast  \n",
       "59  Northeast  \n",
       "60  Northeast  \n",
       "61  Northeast  \n",
       "62  Northeast  \n",
       "\n",
       "[63 rows x 6 columns]"
      ]
     },
     "execution_count": 6,
     "metadata": {},
     "output_type": "execute_result"
    }
   ],
   "source": [
    "gen"
   ]
  },
  {
   "cell_type": "code",
   "execution_count": 7,
   "id": "70674ec4",
   "metadata": {},
   "outputs": [],
   "source": [
    "parks = gen.park_name.to_list()"
   ]
  },
  {
   "cell_type": "code",
   "execution_count": 8,
   "id": "340fef33",
   "metadata": {},
   "outputs": [
    {
     "data": {
      "text/plain": [
       "ParkName\n",
       "Acadia NP                          540\n",
       "Haleakala NP                       540\n",
       "Hot Springs NP                     540\n",
       "Arches NP                          540\n",
       "Isle Royale NP                     540\n",
       "                                  ... \n",
       "Lake Clark NP & PRES               504\n",
       "Gates of the Arctic NP & PRES      504\n",
       "New River Gorge NP & PRES          480\n",
       "Congaree NP                        468\n",
       "National Park of American Samoa    240\n",
       "Name: count, Length: 63, dtype: int64"
      ]
     },
     "execution_count": 8,
     "metadata": {},
     "output_type": "execute_result"
    }
   ],
   "source": [
    "df.ParkName.value_counts()"
   ]
  },
  {
   "cell_type": "code",
   "execution_count": 9,
   "id": "4cb8e7ec",
   "metadata": {},
   "outputs": [],
   "source": [
    "df['park_name'] = 'NOPE'\n",
    "for index, fields in df.iterrows():\n",
    "    for park in parks:\n",
    "        if park in fields.ParkName:\n",
    "            df.loc[index, 'park_name'] = park"
   ]
  },
  {
   "cell_type": "code",
   "execution_count": 10,
   "id": "238a1349",
   "metadata": {},
   "outputs": [],
   "source": [
    "for index, fields in df.iterrows():\n",
    "    if fields.ParkName == 'Haleakala NP':\n",
    "        df.loc[index, 'park_name'] = 'Haleakalā'\n",
    "    elif fields.ParkName == 'Hawaii Volcanoes NP':\n",
    "        df.loc[index, 'park_name'] = 'Hawaiʻi Volcanoes'"
   ]
  },
  {
   "cell_type": "code",
   "execution_count": 11,
   "id": "2eb56a79",
   "metadata": {},
   "outputs": [
    {
     "data": {
      "text/plain": [
       "array([], dtype=object)"
      ]
     },
     "execution_count": 11,
     "metadata": {},
     "output_type": "execute_result"
    }
   ],
   "source": [
    "df.loc[df.park_name == 'NOPE'].ParkName.unique()"
   ]
  },
  {
   "cell_type": "code",
   "execution_count": 12,
   "id": "d6fe9997",
   "metadata": {},
   "outputs": [],
   "source": [
    "df.Region = df.Region.str.strip()"
   ]
  },
  {
   "cell_type": "code",
   "execution_count": 13,
   "id": "75511b13",
   "metadata": {},
   "outputs": [],
   "source": [
    "gen['region'] = df.Region"
   ]
  },
  {
   "cell_type": "code",
   "execution_count": 14,
   "id": "49d5e7b4",
   "metadata": {},
   "outputs": [],
   "source": [
    "# gen.to_csv('../data/final/general.csv', index=False)"
   ]
  },
  {
   "cell_type": "code",
   "execution_count": 15,
   "id": "47aa6448",
   "metadata": {},
   "outputs": [],
   "source": [
    "df = df.drop(columns=['ParkName', 'UnitCode', 'ParkType', 'State', 'Region'\n",
    "                     ,'ParkNameTotal', 'UnitCodeTotal', 'ParkTypeTotal'\n",
    "                     ,'RegionTotal', 'StateTotal', 'YearTotal', 'RecreationVisitsTotal'\n",
    "                     ,'NonRecreationVisitsTotal', 'RecreationHoursTotal', 'NonRecreationHoursTotal'\n",
    "                     ,'ConcessionerLodgingTotal', 'ConcessionerCampingTotal', 'TentCampersTotal'\n",
    "                     ,'RVCampersTotal', 'BackcountryTotal', 'NonRecreationOvernightStaysTotal'\n",
    "                     ,'MiscellaneousOvernightStaysTotal'])"
   ]
  },
  {
   "cell_type": "code",
   "execution_count": 16,
   "id": "babd855d",
   "metadata": {},
   "outputs": [
    {
     "data": {
      "text/plain": [
       "Index(['Year', 'Month', 'RecreationVisits', 'NonRecreationVisits',\n",
       "       'RecreationHours', 'NonRecreationHours', 'ConcessionerLodging',\n",
       "       'ConcessionerCamping', 'TentCampers', 'RVCampers', 'Backcountry',\n",
       "       'NonRecreationOvernightStays', 'MiscellaneousOvernightStays',\n",
       "       'park_name'],\n",
       "      dtype='object')"
      ]
     },
     "execution_count": 16,
     "metadata": {},
     "output_type": "execute_result"
    }
   ],
   "source": [
    "df.columns"
   ]
  },
  {
   "cell_type": "code",
   "execution_count": 17,
   "id": "fe53cc29",
   "metadata": {},
   "outputs": [],
   "source": [
    "# df.to_csv('../data/final/visits.csv', index=False)"
   ]
  }
 ],
 "metadata": {
  "kernelspec": {
   "display_name": "Python 3 (ipykernel)",
   "language": "python",
   "name": "python3"
  },
  "language_info": {
   "codemirror_mode": {
    "name": "ipython",
    "version": 3
   },
   "file_extension": ".py",
   "mimetype": "text/x-python",
   "name": "python",
   "nbconvert_exporter": "python",
   "pygments_lexer": "ipython3",
   "version": "3.11.5"
  }
 },
 "nbformat": 4,
 "nbformat_minor": 5
}
