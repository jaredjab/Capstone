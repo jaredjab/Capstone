{
 "cells": [
  {
   "cell_type": "code",
   "execution_count": 1,
   "id": "24392f3d",
   "metadata": {},
   "outputs": [],
   "source": [
    "import requests\n",
    "import json"
   ]
  },
  {
   "cell_type": "code",
   "execution_count": 2,
   "id": "7e533b61",
   "metadata": {},
   "outputs": [],
   "source": [
    "with open('../../keys.json', 'r') as file:\n",
    "    api_key = json.load(file)['yelp_api_key']"
   ]
  },
  {
   "cell_type": "code",
   "execution_count": 3,
   "id": "2a45e936",
   "metadata": {},
   "outputs": [],
   "source": [
    "url = 'https://api.yelp.com/v3/businesses/search'\n",
    "headers = {'Authorization': f'Bearer {api_key}'}"
   ]
  },
  {
   "cell_type": "code",
   "execution_count": 4,
   "id": "e6e6b42c",
   "metadata": {},
   "outputs": [],
   "source": [
    "params = {\n",
    "    'term': 'national parks',\n",
    "    'location': 'United States',\n",
    "    'limit': 50\n",
    "}"
   ]
  },
  {
   "cell_type": "code",
   "execution_count": 5,
   "id": "01a1d401",
   "metadata": {},
   "outputs": [],
   "source": [
    "response = requests.get(url, headers=headers, params=params)"
   ]
  },
  {
   "cell_type": "code",
   "execution_count": 6,
   "id": "a74231c8",
   "metadata": {},
   "outputs": [
    {
     "data": {
      "text/plain": [
       "<Response [200]>"
      ]
     },
     "execution_count": 6,
     "metadata": {},
     "output_type": "execute_result"
    }
   ],
   "source": [
    "response"
   ]
  },
  {
   "cell_type": "code",
   "execution_count": 7,
   "id": "17076cb2",
   "metadata": {},
   "outputs": [],
   "source": [
    "test_businesses = response.json()['businesses']"
   ]
  },
  {
   "cell_type": "code",
   "execution_count": 8,
   "id": "139b9daf",
   "metadata": {},
   "outputs": [
    {
     "data": {
      "text/plain": [
       "dict_keys(['id', 'alias', 'name', 'image_url', 'is_closed', 'url', 'review_count', 'categories', 'rating', 'coordinates', 'transactions', 'location', 'phone', 'display_phone', 'distance', 'attributes'])"
      ]
     },
     "execution_count": 8,
     "metadata": {},
     "output_type": "execute_result"
    }
   ],
   "source": [
    "test_businesses[0].keys()"
   ]
  },
  {
   "cell_type": "code",
   "execution_count": 9,
   "id": "c5c7c3a3",
   "metadata": {},
   "outputs": [
    {
     "name": "stdout",
     "output_type": "stream",
     "text": [
      "Name: Muir Woods National Monument\n",
      "Id: J3C1Eenep01AKjTBsEx3qg\n",
      "\n",
      "Name: Fort Funston\n",
      "Id: -fqw8aDcx1Sgjs-4u__Aiw\n",
      "\n",
      "Name: Lafayette Park\n",
      "Id: BOTLpH_yY2w4uQeOyjAnag\n",
      "\n",
      "Name: San Francisco Botanical Garden\n",
      "Id: wHhA0cdo0Qzugga1LupN8A\n",
      "\n",
      "Name: Lovers' Lane at the Presidio\n",
      "Id: KRkI76ocl3ZU7fKtdFlS1Q\n",
      "\n",
      "Name: Golden Gate Park\n",
      "Id: KIVq5BlJKTipwtB3NATX0g\n",
      "\n",
      "Name: State Street Park\n",
      "Id: l6_rrAu2xEqETBMabUQO1w\n",
      "\n",
      "Name: Fort Point\n",
      "Id: kiUnW44GC-nNaRXpAeZ6NQ\n",
      "\n",
      "Name: Mission Dolores Park\n",
      "Id: Tf_27JvnneEx0Tz79UwShg\n",
      "\n",
      "Name: Muir Woods Tours & Adventures\n",
      "Id: w0g6QfPiojPS33a1hbygWQ\n",
      "\n",
      "Name: Mount Tamalpais State Park\n",
      "Id: qNofH4EON-Cyg0LNboBtEg\n",
      "\n",
      "Name: Lands End Trail\n",
      "Id: yniMfk_yS1sk9dxPLDVchg\n",
      "\n",
      "Name: The Presidio\n",
      "Id: TuZXDDYPaXQGN4hLhMCszQ\n",
      "\n",
      "Name: San Bruno Mountain State & County Park\n",
      "Id: 7AYEwUxd9C6mSvqN8pvhQQ\n",
      "\n",
      "Name: Tilden Regional Park\n",
      "Id: 4LS2pBY0vUvRK-ra9wPo5Q\n",
      "\n",
      "Name: Napa Valley Aloft Hot Air Balloon Rides\n",
      "Id: OWF6FcuK5OSlRWrpx94pXA\n",
      "\n",
      "Name: Segway SF Bay\n",
      "Id: EvTFBZPNLiUnaTVQkCYKaA\n",
      "\n",
      "Name: Golden Gate National Recreation Area\n",
      "Id: DJyWDgZevyXmUsO74HnUtQ\n",
      "\n",
      "Name: Himalayan High Treks\n",
      "Id: u1EumCySv8nHuXGpDOhYaw\n",
      "\n",
      "Name: San Francisco Maritime National Historical Park\n",
      "Id: FJw512-RNxQXMpeK0S41vw\n",
      "\n",
      "Name: Best Bay Area Tours\n",
      "Id: y2Qe2NilHVfE7gPdNgG3OA\n",
      "\n",
      "Name: Point Bonita Lighthouse\n",
      "Id: iPAVwW7S9ULM3fSZx8FUug\n",
      "\n",
      "Name: SFPD- Richmond Station\n",
      "Id: PL9oZXos6Kbhhpb-3sJo1g\n",
      "\n",
      "Name: Marin Headlands\n",
      "Id: 1r1kRvUc6eJO0KGGtSCF1g\n",
      "\n",
      "Name: San Francisco Bicycle Rentals\n",
      "Id: 3eof5k0d1z_70b5FGo1jSg\n",
      "\n",
      "Name: The 16th Avenue Tiled Steps\n",
      "Id: 5ksN4f83NeC9t_XsyeFx9A\n",
      "\n",
      "Name: Golden Gate Bridge Welcome Center\n",
      "Id: VTqT3FXBf5K5UrEU75BLyA\n",
      "\n",
      "Name: Yosemite Private Tours\n",
      "Id: g38goIHRpRACCysoaePxQg\n",
      "\n",
      "Name: Conservatory of Flowers\n",
      "Id: TRN1vdp0-og9M-3AgKmZZg\n",
      "\n",
      "Name: Mori Point\n",
      "Id: pUlMUwqRGDJxC4vhr5mxMw\n",
      "\n",
      "Name: Adventure Out\n",
      "Id: t97Jxpe-g8mxOmJqj8xGdA\n",
      "\n",
      "Name: Lily Pond\n",
      "Id: wSaNo_Hb8tCJGofHnXCzuw\n",
      "\n",
      "Name: Grandview Park\n",
      "Id: dvUv35RQlpjA4rHzqJ_MzQ\n",
      "\n",
      "Name: Tennessee Valley\n",
      "Id: k9yMe6NnUM6jIF_KgM7-eQ\n",
      "\n",
      "Name: Port View Park\n",
      "Id: 7bKYurFkOUaa3HszCLA61A\n",
      "\n",
      "Name: Muir Beach\n",
      "Id: RfhK07XqbafJDgFMsYLaAA\n",
      "\n",
      "Name: Oracle Park\n",
      "Id: _1Rvyob6xSN9_8rC9ud78w\n",
      "\n",
      "Name: Alcatraz Island\n",
      "Id: Y12NJdzfE-33OQtoHmomMw\n",
      "\n",
      "Name: Lands End\n",
      "Id: fGLexj1k40gCUzfAwXF3Yg\n",
      "\n",
      "Name: Mussel Rock Park\n",
      "Id: 9KyxzBI0-Jjd_Sh3wKW5pw\n",
      "\n",
      "Name: Golden Gate Park Carousel\n",
      "Id: Zokk8g9gjRygz7VBx4cqug\n",
      "\n",
      "Name: Point Bonita Trail\n",
      "Id: 639ZUGeSRfdlUOxveC_CNQ\n",
      "\n",
      "Name: Clement Street\n",
      "Id: 8FSY17HTrgCUm1cDYPRHmg\n",
      "\n",
      "Name: Muir Beach Overlook\n",
      "Id: GEf-dosCFp-XBu7I2ElMdQ\n",
      "\n",
      "Name: Golden Gate Park Bison\n",
      "Id: aBXHGZmzSnskDjEITdrwoQ\n",
      "\n",
      "Name: Battery Spencer\n",
      "Id: i3ocrnYeYW1B33Y24rsDVA\n",
      "\n",
      "Name: Milagra Ridge\n",
      "Id: b2_PvTXNbAkWgmPrq61LLg\n",
      "\n",
      "Name: Bandago Van Rentals\n",
      "Id: pxdrQyn-GUFFH0ERDuuqFA\n",
      "\n",
      "Name: Baker Beach\n",
      "Id: fTlqRlDPtOMayvZM46LVlA\n",
      "\n",
      "Name: Koret Children's Quarter\n",
      "Id: rHqs270rcr83EXWg_GX0FQ\n",
      "\n"
     ]
    }
   ],
   "source": [
    "if response.status_code == 200: # Checks for a return\n",
    "    # Process the business data\n",
    "    businesses = response.json()['businesses']\n",
    "    for business in businesses:\n",
    "        # Extract the information such as name, rating, review_count, etc.\n",
    "        print(f\"Name: {business['name']}\")\n",
    "        #, Rating: {business['rating']}, Review Count: {business['review_count']}\n",
    "        print(f\"Id: {business['id']}\\n\")\n",
    "else:\n",
    "    print(f\"Error: {response.status_code} - {response.text}\")"
   ]
  },
  {
   "cell_type": "code",
   "execution_count": null,
   "id": "04d8fd3e",
   "metadata": {},
   "outputs": [],
   "source": []
  }
 ],
 "metadata": {
  "kernelspec": {
   "display_name": "Python 3 (ipykernel)",
   "language": "python",
   "name": "python3"
  },
  "language_info": {
   "codemirror_mode": {
    "name": "ipython",
    "version": 3
   },
   "file_extension": ".py",
   "mimetype": "text/x-python",
   "name": "python",
   "nbconvert_exporter": "python",
   "pygments_lexer": "ipython3",
   "version": "3.11.5"
  }
 },
 "nbformat": 4,
 "nbformat_minor": 5
}
